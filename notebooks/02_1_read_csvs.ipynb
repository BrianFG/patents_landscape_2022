{
 "cells": [
  {
   "cell_type": "markdown",
   "id": "40a58003-b790-4dd4-ab87-34695857810d",
   "metadata": {},
   "source": [
    "## Importing Libraries\n",
    "\n",
    "`import` keyword is used to import libraries\n",
    "\n",
    "We can assign an alisas using `as` keyword\n",
    "\n",
    "#### Import Pandas\n",
    "\n",
    "Pandas is a library to manage data very similar to an excel table\n",
    "\n",
    "It is commonly aliased as `pd`\n"
   ]
  },
  {
   "cell_type": "code",
   "execution_count": null,
   "id": "efc5e21f-0d05-4dcf-8213-e1edc4c95edf",
   "metadata": {},
   "outputs": [],
   "source": []
  },
  {
   "cell_type": "markdown",
   "id": "98b84d22-ae07-4f87-937c-3096ade20e79",
   "metadata": {},
   "source": [
    "### Reading a CSV\n",
    "\n",
    " `CSV` stands for comma separated value\n",
    " \n",
    " `read_csv(<FILENAME>)` is used to read a file with this format\n",
    " \n",
    " This returns a DataFrame that can be assigned to a variable `df`"
   ]
  },
  {
   "cell_type": "code",
   "execution_count": null,
   "id": "8259ddab-444d-4963-9e4b-24ddcbe9641c",
   "metadata": {},
   "outputs": [],
   "source": []
  },
  {
   "cell_type": "markdown",
   "id": "94b8ea87-3cd4-4c10-9237-55386ada4d4d",
   "metadata": {},
   "source": [
    "Function `head(<N>)` is used to view the first `N` rows"
   ]
  },
  {
   "cell_type": "code",
   "execution_count": null,
   "id": "15956002-d49d-4c54-920b-3a14cb9deed2",
   "metadata": {},
   "outputs": [],
   "source": []
  },
  {
   "cell_type": "markdown",
   "id": "073541bf-bc4f-4897-8a89-08b19d6f2eef",
   "metadata": {},
   "source": [
    "Function `tail(<N>)` is used to view the last `N` rows"
   ]
  },
  {
   "cell_type": "code",
   "execution_count": null,
   "id": "858fb153-ba97-434e-87bb-eff729d9e70e",
   "metadata": {},
   "outputs": [],
   "source": []
  },
  {
   "cell_type": "markdown",
   "id": "6197fa23-8a6d-49f7-8d1f-128a0427e611",
   "metadata": {},
   "source": [
    "---\n",
    "\n",
    "### REAding all CSVs\n",
    "\n",
    "Lets read all the CSVs"
   ]
  },
  {
   "cell_type": "code",
   "execution_count": null,
   "id": "52722eea-473d-4f15-ab29-4634bba56879",
   "metadata": {},
   "outputs": [],
   "source": []
  },
  {
   "cell_type": "markdown",
   "id": "cac7a3ac-0990-463f-b98c-8452c4a532af",
   "metadata": {},
   "source": [
    "You can assign column values using `df[<COLUMN NAME>] = <VALUE>`"
   ]
  },
  {
   "cell_type": "code",
   "execution_count": null,
   "id": "33466b0d-e83e-494b-953c-93e87c30351b",
   "metadata": {},
   "outputs": [],
   "source": []
  },
  {
   "cell_type": "markdown",
   "id": "2dc06278-7f0f-42cc-b82b-56a453e6726f",
   "metadata": {},
   "source": [
    "`concat(<DFs>)` can be used to join all the Dataframes "
   ]
  },
  {
   "cell_type": "code",
   "execution_count": null,
   "id": "4dfd085a-5fe8-4032-b4ad-cfc851cf3dba",
   "metadata": {},
   "outputs": [],
   "source": []
  },
  {
   "cell_type": "code",
   "execution_count": null,
   "id": "93685a34-abb9-4070-bfe3-755e56da8b31",
   "metadata": {},
   "outputs": [],
   "source": []
  },
  {
   "cell_type": "code",
   "execution_count": null,
   "id": "4c09f6ac-1536-4532-957d-4531cc686456",
   "metadata": {},
   "outputs": [],
   "source": []
  },
  {
   "cell_type": "markdown",
   "id": "a1abb3b0-9960-464c-ab98-6fe0029b0798",
   "metadata": {},
   "source": [
    "### Initial insights"
   ]
  },
  {
   "cell_type": "markdown",
   "id": "6528d61a-2011-45b4-9eed-3e610c67be46",
   "metadata": {},
   "source": [
    "With `shape` we get the size of the Dataframe as (rows, columns) "
   ]
  },
  {
   "cell_type": "code",
   "execution_count": null,
   "id": "bfd2a653-8d79-48a8-bf03-06c977a0e904",
   "metadata": {},
   "outputs": [],
   "source": []
  },
  {
   "cell_type": "markdown",
   "id": "6f1be403-f202-4e12-aacb-06ebb1b26ad5",
   "metadata": {},
   "source": [
    "With `count()` we get the count of the rows per column"
   ]
  },
  {
   "cell_type": "code",
   "execution_count": null,
   "id": "eb77238e-82dd-4647-896e-7c766b6a5b41",
   "metadata": {},
   "outputs": [],
   "source": []
  },
  {
   "cell_type": "markdown",
   "id": "2dc1e91e-81b0-40b8-af2d-b728f09a9862",
   "metadata": {},
   "source": [
    "Or the number of unique values per column with `nunique`"
   ]
  },
  {
   "cell_type": "code",
   "execution_count": null,
   "id": "3621708b-87d6-454f-85d3-25ed553348be",
   "metadata": {},
   "outputs": [],
   "source": []
  },
  {
   "cell_type": "markdown",
   "id": "310f581d-010b-44ae-ae18-5e843ce2752d",
   "metadata": {},
   "source": [
    "We can perfrom functions in columns individualy\n",
    "\n"
   ]
  },
  {
   "cell_type": "code",
   "execution_count": null,
   "id": "453bf13d-18c0-4daf-a18a-2375a5d3600c",
   "metadata": {},
   "outputs": [],
   "source": []
  },
  {
   "cell_type": "code",
   "execution_count": null,
   "id": "9fa49c04-afc0-4998-9674-743668d4dad4",
   "metadata": {},
   "outputs": [],
   "source": []
  },
  {
   "cell_type": "code",
   "execution_count": null,
   "id": "2dec507a-d38d-4b1d-9879-21313720803e",
   "metadata": {},
   "outputs": [],
   "source": []
  },
  {
   "cell_type": "markdown",
   "id": "058288b4-004a-48da-8ccc-5ea139f84cc5",
   "metadata": {},
   "source": [
    "We can group using `groupby` and use a function to get some insights"
   ]
  },
  {
   "cell_type": "code",
   "execution_count": 66,
   "id": "26996032-13b0-43ad-854e-71c8a41be07e",
   "metadata": {},
   "outputs": [],
   "source": [
    "#Grouping by patent type and counting\n"
   ]
  },
  {
   "cell_type": "code",
   "execution_count": 67,
   "id": "b5ae73c0-9aad-4033-b262-523ba006b822",
   "metadata": {},
   "outputs": [],
   "source": [
    "#Grouping by patent type and counting unique values\n"
   ]
  },
  {
   "cell_type": "markdown",
   "id": "d9e473db-bf0a-4e48-9d32-fee66214140c",
   "metadata": {},
   "source": [
    "Use `describe` for  full insights"
   ]
  },
  {
   "cell_type": "code",
   "execution_count": null,
   "id": "de7d857a-b805-4534-b8df-d0cf4e1b3031",
   "metadata": {},
   "outputs": [],
   "source": []
  },
  {
   "cell_type": "markdown",
   "id": "2a568169-e5d8-4889-86bc-ff3819a9c890",
   "metadata": {},
   "source": [
    "### Saving CSV\n",
    "\n",
    "We can save the Dataframe using `to_csv(<FILENAME>)`"
   ]
  },
  {
   "cell_type": "code",
   "execution_count": 68,
   "id": "95998eab-fa50-4dae-a14b-3c32207228e9",
   "metadata": {},
   "outputs": [],
   "source": [
    "df.to_csv('patents.csv', index=None)"
   ]
  },
  {
   "cell_type": "code",
   "execution_count": null,
   "id": "8a421ce4-f942-4f3c-9bda-c20f3436c812",
   "metadata": {},
   "outputs": [],
   "source": []
  },
  {
   "cell_type": "markdown",
   "id": "db9f92b3-df67-4f23-95bc-759178857377",
   "metadata": {},
   "source": [
    "### Visualizations"
   ]
  },
  {
   "cell_type": "markdown",
   "id": "6f09dbd9-e996-4097-93b1-316a577bae45",
   "metadata": {},
   "source": [
    "Making a visual for number of unique values  "
   ]
  },
  {
   "cell_type": "code",
   "execution_count": null,
   "id": "ce036344-7c13-4a5e-94ab-867afbb3e097",
   "metadata": {},
   "outputs": [],
   "source": []
  },
  {
   "cell_type": "code",
   "execution_count": null,
   "id": "b44a3bb3-d3a1-4dbc-a855-f1ea094cef32",
   "metadata": {},
   "outputs": [],
   "source": []
  },
  {
   "cell_type": "code",
   "execution_count": null,
   "id": "721f5858-c130-4039-9aee-cdafda6fe4cf",
   "metadata": {},
   "outputs": [],
   "source": []
  },
  {
   "cell_type": "code",
   "execution_count": null,
   "id": "8621a22e-f040-49d2-bda8-5b88e3c79be0",
   "metadata": {},
   "outputs": [],
   "source": []
  }
 ],
 "metadata": {
  "kernelspec": {
   "display_name": "Python 3 (ipykernel)",
   "language": "python",
   "name": "python3"
  },
  "language_info": {
   "codemirror_mode": {
    "name": "ipython",
    "version": 3
   },
   "file_extension": ".py",
   "mimetype": "text/x-python",
   "name": "python",
   "nbconvert_exporter": "python",
   "pygments_lexer": "ipython3",
   "version": "3.10.8"
  }
 },
 "nbformat": 4,
 "nbformat_minor": 5
}
